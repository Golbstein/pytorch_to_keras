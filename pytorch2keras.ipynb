{
 "cells": [
  {
   "cell_type": "markdown",
   "metadata": {},
   "source": [
    "### Transfer Pytorch weights to Keras model\n",
    "Jenia Golbstein"
   ]
  },
  {
   "cell_type": "code",
   "execution_count": 1,
   "metadata": {},
   "outputs": [
    {
     "name": "stderr",
     "output_type": "stream",
     "text": [
      "Using TensorFlow backend.\n"
     ]
    }
   ],
   "source": [
    "import torch\n",
    "from keras import backend as K\n",
    "import numpy as np\n",
    "import torch.nn as nn\n",
    "import torch.nn.functional as F\n",
    "from keras.layers import Conv2D, Input, Dense, MaxPool2D, Flatten, Lambda, BatchNormalization\n",
    "from keras.models import Model\n",
    "import tensorflow as tf\n",
    "import matplotlib.pyplot as plt\n",
    "%matplotlib inline"
   ]
  },
  {
   "cell_type": "markdown",
   "metadata": {},
   "source": [
    "### Create dummy PyTorch model\n",
    "\n",
    "* Model with convolution, bachnormalization and fully connected layer\n",
    "* For input @ size (28x28x1) - MNIST dataset"
   ]
  },
  {
   "cell_type": "code",
   "execution_count": 2,
   "metadata": {},
   "outputs": [
    {
     "data": {
      "text/plain": [
       "PytorchModel(\n",
       "  (conv1): Conv2d(1, 2, kernel_size=(3, 3), stride=(1, 1))\n",
       "  (bn1): BatchNorm2d(2, eps=1e-05, momentum=0.1, affine=True, track_running_stats=True)\n",
       "  (fc1): Linear(in_features=338, out_features=10, bias=True)\n",
       ")"
      ]
     },
     "execution_count": 2,
     "metadata": {},
     "output_type": "execute_result"
    }
   ],
   "source": [
    "class PytorchModel(nn.Module):\n",
    "    def __init__(self):\n",
    "        super(PytorchModel, self).__init__()\n",
    "        self.conv1 = nn.Conv2d(in_channels=1, out_channels=2, kernel_size=3, stride=1)\n",
    "        self.bn1 = nn.BatchNorm2d(num_features=2)\n",
    "        self.fc1 = nn.Linear(13*13*2, 10)\n",
    "    def forward(self, x):\n",
    "        x = self.bn1(F.relu(self.conv1(x)))\n",
    "        x = F.max_pool2d(x, 2, 2)\n",
    "        x = x.view(-1, 13*13*2)\n",
    "        x = self.fc1(x)\n",
    "        return F.softmax(x, dim=1)\n",
    "    \n",
    "# Load dummpy pytorch model to cpu on evaluation mode\n",
    "p_model = PytorchModel()\n",
    "p_model.cpu()\n",
    "p_model.eval()"
   ]
  },
  {
   "cell_type": "markdown",
   "metadata": {},
   "source": [
    "### Create dummy Keras model\n",
    "\n",
    "* #### Similar architecture as the Pytorch model\n",
    "* #### tensorflow backend with image_data_format=\"channels_last\"\n",
    "\n",
    "\n",
    "* Pytorch input order is (B, C, H, W). \n",
    "* Keras input order (channels_last) is (B, H, W, C)\n",
    "\n",
    "\n",
    "Therefore, when you do flattening of the activations (\"view\" in pytorch) you have to reshape you input to be like the input in your pytorch model so the pre-trained pytorch weights will be relevant.\n",
    "\n",
    "Also, I don't know why and if anyone can explain me this - it's necessary to do this trick before the BatchNormalization layer in keras and reshape back afterwards to (BHWC)"
   ]
  },
  {
   "cell_type": "code",
   "execution_count": 3,
   "metadata": {},
   "outputs": [
    {
     "name": "stdout",
     "output_type": "stream",
     "text": [
      "channels_last\n"
     ]
    }
   ],
   "source": [
    "# Make sure it's \"channels_last\"\n",
    "print(K.image_data_format()) "
   ]
  },
  {
   "cell_type": "code",
   "execution_count": 4,
   "metadata": {},
   "outputs": [],
   "source": [
    "# Build keras model on cpu\n",
    "with tf.device('/cpu:0'):\n",
    "    inp = Input((28,28,1))\n",
    "    x = Conv2D(2,3,activation='relu', name='conv1')(inp)\n",
    "    \n",
    "    # Reshaping to (BCHW)\n",
    "    x = Lambda(lambda x: K.permute_dimensions(x, (0, 3, 1, 2)))(x)\n",
    "    x = BatchNormalization(axis = 1, name='bn1')(x)\n",
    "    \n",
    "    # Reshaping back to (BHWC)\n",
    "    x = Lambda(lambda x: K.permute_dimensions(x, (0, 2, 3, 1)))(x)\n",
    "    x = MaxPool2D()(x)\n",
    "    \n",
    "    # Reshaping to (BCHW)\n",
    "    x = Lambda(lambda x: K.permute_dimensions(x, (0, 3, 1, 2)))(x)\n",
    "    x = Flatten()(x)\n",
    "    out = Dense(10, activation='softmax',name='fc1')(x)\n",
    "    k_model = Model(inp, out)"
   ]
  },
  {
   "cell_type": "markdown",
   "metadata": {},
   "source": [
    "### Pytorch to Keras weights conversion"
   ]
  },
  {
   "cell_type": "code",
   "execution_count": 10,
   "metadata": {},
   "outputs": [],
   "source": [
    "# pytoch weights to keras\n",
    "\n",
    "trained_weights = p_model.state_dict()\n",
    "pytorch_layers = [] # get ptroch layers names and suffixes\n",
    "for x, l in zip(trained_weights, k_model.layers):\n",
    "    pytorch_layers.append(x[:x.find('.')])\n",
    "\n",
    "unique_layers = np.unique(pytorch_layers)\n",
    "\n",
    "for layer in unique_layers:\n",
    "    weights = trained_weights['{}.weight'.format(layer)].cpu().numpy() # torch weights (nf, ch, x, y)\n",
    "    biases = trained_weights['{}.bias'.format(layer)].cpu().numpy()\n",
    "    if 'bn' in layer:\n",
    "        running_mean = trained_weights['{}.running_mean'.format(layer)].cpu().numpy()\n",
    "        running_var = trained_weights['{}.running_var'.format(layer)].cpu().numpy()\n",
    "        W = [weights, biases, running_mean, running_var]\n",
    "    elif 'fc' in layer:\n",
    "        biases = trained_weights['{}.bias'.format(layer)].cpu().numpy()\n",
    "        W = [weights.T, biases]\n",
    "    else:\n",
    "        W = [np.moveaxis(weights, [0, 1], [3, 2]), biases] # transpose to (x, y, ch, nf) keras version\n",
    "    k_model.get_layer(layer).set_weights(W)"
   ]
  },
  {
   "cell_type": "markdown",
   "metadata": {},
   "source": [
    "### Compare the output of the 2 models on randomly uniformed data"
   ]
  },
  {
   "cell_type": "code",
   "execution_count": 15,
   "metadata": {},
   "outputs": [
    {
     "name": "stdout",
     "output_type": "stream",
     "text": [
      "max difference: 4.455447e-06 \n",
      "sum of difffernces: -4.7683716e-07\n"
     ]
    },
    {
     "data": {
      "image/png": "[encoded data removed]",
      "text/plain": [
       "<Figure size 432x288 with 1 Axes>"
      ]
     },
     "metadata": {},
     "output_type": "display_data"
    }
   ],
   "source": [
    "batch_size = 16\n",
    "\n",
    "keras_input = np.random.random((batch_size, 28, 28, 1)).astype('float32')\n",
    "pytorch_input = torch.from_numpy(keras_input.transpose(0,-1,1,2))\n",
    "\n",
    "p_out = p_model(pytorch_input.cpu())\n",
    "k_out = k_model.predict(keras_input)\n",
    "\n",
    "y = torch.from_numpy(k_out) - p_out\n",
    "y = y.detach().numpy().flatten()\n",
    "plt.hist(y);\n",
    "print('max difference:', y.max(), '\\nsum of difffernces:', y.sum())"
   ]
  }
 ],
 "metadata": {
  "kernelspec": {
   "display_name": "Python 3",
   "language": "python",
   "name": "python3"
  },
  "language_info": {
   "codemirror_mode": {
    "name": "ipython",
    "version": 3
   },
   "file_extension": ".py",
   "mimetype": "text/x-python",
   "name": "python",
   "nbconvert_exporter": "python",
   "pygments_lexer": "ipython3",
   "version": "3.6.5"
  }
 },
 "nbformat": 4,
 "nbformat_minor": 2
}
